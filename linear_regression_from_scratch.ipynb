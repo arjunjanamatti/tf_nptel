{
 "cells": [
  {
   "cell_type": "markdown",
   "metadata": {},
   "source": [
    "* Normalizing helps in getting better convergence in training data"
   ]
  },
  {
   "cell_type": "code",
   "execution_count": 1,
   "metadata": {
    "ExecuteTime": {
     "end_time": "2020-07-14T12:42:51.542150Z",
     "start_time": "2020-07-14T12:42:51.220158Z"
    }
   },
   "outputs": [],
   "source": [
    "import matplotlib.pyplot as plt\n",
    "import numpy as np"
   ]
  },
  {
   "cell_type": "code",
   "execution_count": 2,
   "metadata": {
    "ExecuteTime": {
     "end_time": "2020-07-14T12:42:52.812944Z",
     "start_time": "2020-07-14T12:42:52.357120Z"
    }
   },
   "outputs": [
    {
     "data": {
      "image/png": "[encoded data removed]",
      "text/plain": [
       "<Figure size 432x288 with 1 Axes>"
      ]
     },
     "metadata": {
      "needs_background": "light"
     },
     "output_type": "display_data"
    }
   ],
   "source": [
    "import pandas as pd\n",
    "\n",
    "raw_data = pd.read_csv('data.txt', sep = ',', header = None)\n",
    "X = raw_data.iloc[:,0].values\n",
    "y = raw_data.iloc[:,1].values\n",
    "X_1 = X.reshape(len(X), 1)\n",
    "plt.scatter(X,y)\n",
    "plt.show()"
   ]
  },
  {
   "cell_type": "markdown",
   "metadata": {},
   "source": [
    "### Using scikit library"
   ]
  },
  {
   "cell_type": "code",
   "execution_count": 3,
   "metadata": {
    "ExecuteTime": {
     "end_time": "2020-07-14T12:42:56.768429Z",
     "start_time": "2020-07-14T12:42:55.907670Z"
    }
   },
   "outputs": [
    {
     "name": "stdout",
     "output_type": "stream",
     "text": [
      "Accuracy of model:  0.59\n",
      "\n",
      "Intercept:  15.07636055026471\n",
      "\n",
      "slope:  [1.19463787]\n"
     ]
    },
    {
     "data": {
      "image/png": "[encoded data removed]",
      "text/plain": [
       "<Figure size 432x288 with 1 Axes>"
      ]
     },
     "metadata": {
      "needs_background": "light"
     },
     "output_type": "display_data"
    }
   ],
   "source": [
    "from sklearn.model_selection import train_test_split\n",
    "\n",
    "X_train, X_test, y_train, y_test = train_test_split(X_1, y, test_size=0.2, random_state=42)\n",
    "\n",
    "\n",
    "from sklearn.linear_model import LinearRegression\n",
    "\n",
    "model = LinearRegression()\n",
    "model.fit(X = X_train,\n",
    "          y = y_train)\n",
    "\n",
    "print(\"Accuracy of model: \", round((model.score(X = X_1,\n",
    "                                                y = y)),2))\n",
    "print()\n",
    "print('Intercept: ', model.intercept_)\n",
    "print()\n",
    "print('slope: ', model.coef_)\n",
    "\n",
    "predicted_value = model.predict(X = X_1)\n",
    "\n",
    "plt.scatter(X, y)\n",
    "plt.plot(X, predicted_value)\n",
    "plt.show()"
   ]
  },
  {
   "cell_type": "markdown",
   "metadata": {},
   "source": [
    "### Using gradient descent algorithm"
   ]
  },
  {
   "cell_type": "code",
   "execution_count": 6,
   "metadata": {
    "ExecuteTime": {
     "end_time": "2020-07-14T12:43:11.734041Z",
     "start_time": "2020-07-14T12:43:11.601964Z"
    }
   },
   "outputs": [
    {
     "name": "stdout",
     "output_type": "stream",
     "text": [
      "Accuracy of model:  0.59\n",
      "\n",
      "Intercept:  15.07636055026471\n",
      "\n",
      "slope:  [1.19463787]\n"
     ]
    },
    {
     "data": {
      "image/png": "[encoded data removed]",
      "text/plain": [
       "<Figure size 432x288 with 1 Axes>"
      ]
     },
     "metadata": {
      "needs_background": "light"
     },
     "output_type": "display_data"
    }
   ],
   "source": [
    "b = 0\n",
    "w_1 = 0\n",
    "count = 0\n",
    "w_1_list = []\n",
    "b_list = []\n",
    "loss_function_list = []\n",
    "while count < 1000:\n",
    "    predicted_y = b + (w_1 * X)\n",
    "    loss_function = (np.sum(predicted_y - y)**2) * 0.5\n",
    "    gradient_of_w_1 = np.sum(((predicted_y - y) * X))\n",
    "    gradient_of_b = np.sum(((predicted_y - y) * 1))\n",
    "    learning_rate = 0.000001\n",
    "    w_1 = w_1 - (learning_rate * gradient_of_w_1)\n",
    "    b = b - (learning_rate * gradient_of_b)\n",
    "    w_1_list.append(w_1)\n",
    "    b_list.append(b)\n",
    "    loss_function_list.append(loss_function)\n",
    "    count = count + 1\n",
    "    \n",
    "pred = b_list[np.argmin(loss_function_list)] + ((w_1_list[np.argmin(loss_function_list)])* X)\n",
    "\n",
    "print(\"Accuracy of model: \", round(r_square(y, pred),2))\n",
    "print()\n",
    "print('Intercept: ', model.intercept_)\n",
    "print()\n",
    "print('slope: ', model.coef_)\n",
    "\n",
    "plt.scatter(X, y)\n",
    "plt.plot(X, pred)\n",
    "plt.show()"
   ]
  },
  {
   "cell_type": "code",
   "execution_count": 5,
   "metadata": {
    "ExecuteTime": {
     "end_time": "2020-07-14T12:43:09.168262Z",
     "start_time": "2020-07-14T12:43:09.163278Z"
    }
   },
   "outputs": [],
   "source": [
    "def r_square(y, pred):\n",
    "    mean_value = np.mean(y)\n",
    "    total = np.sum((y - mean_value)**2)\n",
    "    residuals = np.sum((y - pred)**2)\n",
    "    return 1 - (residuals / total)"
   ]
  },
  {
   "cell_type": "code",
   "execution_count": null,
   "metadata": {},
   "outputs": [],
   "source": []
  }
 ],
 "metadata": {
  "kernelspec": {
   "display_name": "Python 3",
   "language": "python",
   "name": "python3"
  },
  "language_info": {
   "codemirror_mode": {
    "name": "ipython",
    "version": 3
   },
   "file_extension": ".py",
   "mimetype": "text/x-python",
   "name": "python",
   "nbconvert_exporter": "python",
   "pygments_lexer": "ipython3",
   "version": "3.6.10"
  },
  "varInspector": {
   "cols": {
    "lenName": 16,
    "lenType": 16,
    "lenVar": 40
   },
   "kernels_config": {
    "python": {
     "delete_cmd_postfix": "",
     "delete_cmd_prefix": "del ",
     "library": "var_list.py",
     "varRefreshCmd": "print(var_dic_list())"
    },
    "r": {
     "delete_cmd_postfix": ") ",
     "delete_cmd_prefix": "rm(",
     "library": "var_list.r",
     "varRefreshCmd": "cat(var_dic_list()) "
    }
   },
   "types_to_exclude": [
    "module",
    "function",
    "builtin_function_or_method",
    "instance",
    "_Feature"
   ],
   "window_display": false
  }
 },
 "nbformat": 4,
 "nbformat_minor": 4
}
