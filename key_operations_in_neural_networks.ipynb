{
 "cells": [
  {
   "cell_type": "markdown",
   "metadata": {},
   "source": [
    "# Key operations in Neural Networks\n",
    "\n",
    "\n",
    "In NN, we specify a layer with the following statement:\n",
    "\n",
    "`tf.keras.layers.Dense(128, activation='relu')`\n",
    "\n",
    "This layer takes 2D tensor as input and returns another 2D tensor as an output through the following function:\n",
    "\n",
    "`output = relu(dot(w, input)+b)`\n",
    "\n",
    "There are three operations here:\n",
    "1. Linear combination of inputs and the corresponding weights: `dot(w, input)` where `w` is a weight vector and `input` is a feature vector.\n",
    "2. Add bias to the calculation `dot(w, input)+b`\n",
    "3. Finally apply a non-linear activiation on the result.  Here we have used `relu` as an activation function, which returns `max(x, 0)`.\n",
    "\n"
   ]
  },
  {
   "cell_type": "code",
   "execution_count": 1,
   "metadata": {
    "ExecuteTime": {
     "end_time": "2020-07-16T05:53:35.865643Z",
     "start_time": "2020-07-16T05:53:35.860733Z"
    }
   },
   "outputs": [],
   "source": [
    "import numpy as np"
   ]
  },
  {
   "cell_type": "code",
   "execution_count": 9,
   "metadata": {
    "ExecuteTime": {
     "end_time": "2020-07-16T06:10:59.707668Z",
     "start_time": "2020-07-16T06:10:59.687878Z"
    }
   },
   "outputs": [
    {
     "name": "stdout",
     "output_type": "stream",
     "text": [
      "Attributes of a tensor: weights\n",
      "-------------------------\n",
      "Dimension of the tensor:  2\n",
      "Shape of the tensor:  (2, 2)\n",
      "Datatype of tensor:  float64\n",
      "\n",
      "Attributes of a tensor: input_vectors\n",
      "-------------------------\n",
      "Dimension of the tensor:  2\n",
      "Shape of the tensor:  (2, 2)\n",
      "Datatype of tensor:  int32\n",
      "\n",
      "Attributes of a tensor: bias_unit\n",
      "-------------------------\n",
      "Dimension of the tensor:  1\n",
      "Shape of the tensor:  (2,)\n",
      "Datatype of tensor:  float64\n"
     ]
    }
   ],
   "source": [
    "weights = np.array([[1,0.5],[0.5,1]])\n",
    "input_vectors = np.array([[1,1],[1,1]])\n",
    "bias_unit = np.array([-2,0.5])\n",
    "\n",
    "print('Attributes of a tensor: weights')\n",
    "print('-------------------------')\n",
    "print('Dimension of the tensor: ', weights.ndim)\n",
    "print('Shape of the tensor: ', weights.shape)\n",
    "print('Datatype of tensor: ', weights.dtype)\n",
    "\n",
    "print()\n",
    "print('Attributes of a tensor: input_vectors')\n",
    "print('-------------------------')\n",
    "print('Dimension of the tensor: ', input_vectors.ndim)\n",
    "print('Shape of the tensor: ', input_vectors.shape)\n",
    "print('Datatype of tensor: ', input_vectors.dtype)\n",
    "\n",
    "print()\n",
    "print('Attributes of a tensor: bias_unit')\n",
    "print('-------------------------')\n",
    "print('Dimension of the tensor: ', bias_unit.ndim)\n",
    "print('Shape of the tensor: ', bias_unit.shape)\n",
    "print('Datatype of tensor: ', bias_unit.dtype)"
   ]
  },
  {
   "cell_type": "code",
   "execution_count": 10,
   "metadata": {
    "ExecuteTime": {
     "end_time": "2020-07-16T06:11:00.195449Z",
     "start_time": "2020-07-16T06:11:00.182380Z"
    }
   },
   "outputs": [
    {
     "name": "stdout",
     "output_type": "stream",
     "text": [
      "==================================================\n",
      "Shape of weights =  (2, 2)\n",
      "Shape input_vectors =  (2, 2)\n",
      "Shape of bias_unit =  (2,)\n",
      "==================================================\n",
      "Shape of z =  (2, 2)\n",
      "==================================================\n",
      "[[-0.5  2. ]\n",
      " [-0.5  2. ]]\n"
     ]
    }
   ],
   "source": [
    "z = np.dot(weights, input_vectors) + bias_unit             # Element-wise addition\n",
    "\n",
    "print (\"==================================================\")\n",
    "print (\"Shape of weights = \", weights.shape)\n",
    "print (\"Shape input_vectors = \", input_vectors.shape)\n",
    "print (\"Shape of bias_unit = \", bias_unit.shape)\n",
    "print (\"==================================================\")\n",
    "print (\"Shape of z = \", z.shape)\n",
    "print (\"==================================================\")\n",
    "print (z)"
   ]
  },
  {
   "cell_type": "markdown",
   "metadata": {},
   "source": [
    "* Apply non-linear activation using 'relu':"
   ]
  },
  {
   "cell_type": "code",
   "execution_count": 11,
   "metadata": {
    "ExecuteTime": {
     "end_time": "2020-07-16T06:11:13.872295Z",
     "start_time": "2020-07-16T06:11:13.864695Z"
    }
   },
   "outputs": [
    {
     "name": "stdout",
     "output_type": "stream",
     "text": [
      "Shape of output =  (2, 2)\n",
      "[[0. 2.]\n",
      " [0. 2.]]\n"
     ]
    }
   ],
   "source": [
    "output = np.maximum(0., z)                 # Element-wise relu\n",
    "print (\"Shape of output = \", output.shape)\n",
    "print (output)"
   ]
  },
  {
   "cell_type": "code",
   "execution_count": 16,
   "metadata": {
    "ExecuteTime": {
     "end_time": "2020-07-16T06:22:50.134260Z",
     "start_time": "2020-07-16T06:22:49.890086Z"
    }
   },
   "outputs": [
    {
     "data": {
      "image/png": "[encoded data removed]",
      "text/plain": [
       "<Figure size 432x288 with 1 Axes>"
      ]
     },
     "metadata": {
      "needs_background": "light"
     },
     "output_type": "display_data"
    }
   ],
   "source": [
    "import matplotlib.pyplot as plt\n",
    "\n",
    "def relu_visual(x):\n",
    "    z = np.maximum(0,x)\n",
    "    plt.plot(x, z)\n",
    "    plt.xlabel('x')\n",
    "    plt.ylabel('relu(x)')\n",
    "    plt.title(\"Relu function\")\n",
    "    plt.show()\n",
    "    \n",
    "x = np.linspace(-5,5,100)\n",
    "relu_visual(x)"
   ]
  },
  {
   "cell_type": "code",
   "execution_count": 17,
   "metadata": {
    "ExecuteTime": {
     "end_time": "2020-07-16T06:22:51.130076Z",
     "start_time": "2020-07-16T06:22:50.897374Z"
    }
   },
   "outputs": [
    {
     "data": {
      "image/png": "[encoded data removed]",
      "text/plain": [
       "<Figure size 432x288 with 1 Axes>"
      ]
     },
     "metadata": {
      "needs_background": "light"
     },
     "output_type": "display_data"
    }
   ],
   "source": [
    "def sigmoid_visual(x):\n",
    "    f_z = 1 / (1 + np.exp(-x))\n",
    "    plt.plot(x, f_z)\n",
    "    plt.xlabel('x')\n",
    "    plt.ylabel('sigmoid(x)')\n",
    "    plt.title(\"Sigmoid function\")\n",
    "    plt.show()\n",
    "    \n",
    "x = np.linspace(-5,5,100)\n",
    "sigmoid_visual(x)"
   ]
  },
  {
   "cell_type": "markdown",
   "metadata": {},
   "source": [
    "## Broadcasting\n",
    "\n",
    "Employed to make two tensors involved in the operations compatible.  Concretely, let's say you want to add two tensors when their shaps differ:\n",
    "1. Axes are added to the smaller tensor to match the `ndim` of the larger tensor.  These axes are called `broadcast axes`.\n",
    "2. The smaller tensor is repeated alongside these new axes to match the full shape of the larger tensor.\n"
   ]
  },
  {
   "cell_type": "code",
   "execution_count": 19,
   "metadata": {
    "ExecuteTime": {
     "end_time": "2020-07-16T06:25:07.429203Z",
     "start_time": "2020-07-16T06:25:07.416761Z"
    }
   },
   "outputs": [
    {
     "name": "stdout",
     "output_type": "stream",
     "text": [
      "Shape of x_1:  (32, 10)\n",
      "Original shape of x_2:  (10,)\n",
      "Shape of x_2 after adding a broadcast axis:  (1, 10)\n",
      "Shape of x_2 after broadcasting:  (32, 10)\n"
     ]
    }
   ],
   "source": [
    "x_1 = np.random.rand(32, 10)\n",
    "x_2 = np.random.rand(10,)\n",
    "\n",
    "print (\"Shape of x_1: \", x_1.shape)\n",
    "\n",
    "print (\"Original shape of x_2: \", x_2.shape)\n",
    "\n",
    "# Broadcasting\n",
    "# 1. Add an axis to match ndim of the larger tensor.\n",
    "x_2 = np.expand_dims(x_2, axis=0)\n",
    "print (\"Shape of x_2 after adding a broadcast axis: \", x_2.shape)\n",
    "\n",
    "# 2. Smaller tensor is repeated on the new axis.\n",
    "x_2 = np.repeat(x_2, 32, axis=0)\n",
    "print (\"Shape of x_2 after broadcasting: \", x_2.shape)"
   ]
  },
  {
   "cell_type": "code",
   "execution_count": 20,
   "metadata": {
    "ExecuteTime": {
     "end_time": "2020-07-16T06:25:30.165039Z",
     "start_time": "2020-07-16T06:25:30.156215Z"
    }
   },
   "outputs": [
    {
     "name": "stdout",
     "output_type": "stream",
     "text": [
      "(32, 10)\n"
     ]
    }
   ],
   "source": [
    "#numpy implements broadcasting\n",
    "x_1 = np.random.rand(32, 10)\n",
    "x_2 = np.random.rand(10,)\n",
    "print((x_1 + x_2).shape)"
   ]
  },
  {
   "cell_type": "code",
   "execution_count": 21,
   "metadata": {
    "ExecuteTime": {
     "end_time": "2020-07-16T06:25:40.296131Z",
     "start_time": "2020-07-16T06:25:40.280711Z"
    }
   },
   "outputs": [
    {
     "data": {
      "text/plain": [
       "array([[0.98772972, 0.7618611 , 0.80342368, 0.52130789, 1.03245107,\n",
       "        1.57033655, 1.30439752, 0.26847432, 0.32743341, 0.95988432],\n",
       "       [0.23992483, 0.75351196, 1.10206119, 0.71256667, 0.93615932,\n",
       "        1.60576207, 1.27358384, 0.84108834, 0.88338349, 0.84462673],\n",
       "       [0.91923532, 1.59727475, 1.42814337, 0.191729  , 0.60689248,\n",
       "        1.57232404, 0.96139649, 0.81298881, 0.51368845, 0.43611741],\n",
       "       [0.95642165, 1.68096063, 1.46218129, 0.8505125 , 0.65736764,\n",
       "        1.61592195, 1.4705521 , 0.26317727, 0.48669758, 0.76970262],\n",
       "       [0.62419328, 1.69505522, 0.97860029, 0.64393961, 0.57086383,\n",
       "        1.3656705 , 1.06520657, 0.24307035, 1.14370157, 0.63448312],\n",
       "       [1.07683415, 1.49368563, 1.32905038, 0.31705384, 0.26126759,\n",
       "        1.5000261 , 1.00446123, 0.29832689, 0.8682611 , 0.66940507],\n",
       "       [0.71945507, 1.10880208, 1.25985659, 0.82539944, 0.31927913,\n",
       "        1.49957877, 0.92889021, 0.34054015, 0.37472634, 0.92836441],\n",
       "       [0.64939531, 1.29318326, 1.22224593, 0.96535691, 0.66194249,\n",
       "        1.38497663, 0.98667411, 0.7301228 , 0.91596625, 0.37534684],\n",
       "       [0.53829955, 1.42502595, 1.29027308, 0.45775388, 0.55521719,\n",
       "        1.39964806, 1.36388691, 0.55059523, 1.207945  , 0.83733247],\n",
       "       [0.47918661, 1.62669039, 1.47658295, 0.39781034, 0.43528282,\n",
       "        1.56538307, 1.25096952, 0.53446622, 0.73445076, 0.35281855],\n",
       "       [0.78921207, 1.10732731, 1.31091042, 0.28858069, 0.27494827,\n",
       "        0.85122469, 1.4170845 , 0.93464313, 1.11148089, 0.4238659 ],\n",
       "       [0.53915832, 0.97785903, 0.54977206, 0.90747938, 0.79111806,\n",
       "        1.23821421, 0.67266125, 0.62790927, 0.98508845, 0.32207669],\n",
       "       [0.51556713, 0.94606689, 1.43541582, 0.50188826, 0.4459364 ,\n",
       "        0.96069897, 1.48563647, 0.24199536, 0.94107576, 0.81192784],\n",
       "       [0.30370805, 1.57198216, 0.72605693, 0.69776985, 0.74442979,\n",
       "        1.63016041, 1.59367958, 0.12664542, 1.24490499, 0.37033326],\n",
       "       [0.56955392, 1.33064456, 1.41951493, 0.41512769, 0.85696856,\n",
       "        1.68983008, 0.82473963, 0.60197568, 0.76181319, 1.1153382 ],\n",
       "       [0.86815707, 1.03748629, 0.72142511, 0.71592438, 0.88107145,\n",
       "        1.45023135, 1.40406385, 0.71130373, 0.43133613, 0.88592775],\n",
       "       [0.15641029, 1.44689297, 0.79652552, 0.20674131, 0.59205099,\n",
       "        1.35765952, 0.99391724, 0.6856439 , 1.16191166, 0.8683113 ],\n",
       "       [0.9348822 , 0.85963272, 0.96026747, 0.51928283, 0.69567913,\n",
       "        1.11546082, 1.07632225, 0.40226512, 1.24724417, 0.53341711],\n",
       "       [0.82101301, 1.11670434, 1.01891775, 0.54346667, 1.09058865,\n",
       "        1.71380405, 1.17988612, 0.42738765, 0.69443838, 0.64228783],\n",
       "       [0.62056462, 1.46698653, 1.02593542, 0.47420909, 0.53749336,\n",
       "        1.6149025 , 0.71404055, 0.27549617, 1.1486416 , 1.0204336 ],\n",
       "       [1.00999633, 1.06687801, 1.12686501, 0.20301246, 0.90058775,\n",
       "        0.85403494, 1.43050006, 0.36491675, 0.64700118, 0.90789027],\n",
       "       [0.56611535, 1.10161693, 1.4414711 , 0.53424231, 0.9865512 ,\n",
       "        1.427162  , 1.11640449, 0.76808699, 1.18274906, 0.82397103],\n",
       "       [1.04181989, 1.69855608, 1.40537233, 0.52137656, 0.53108775,\n",
       "        1.59303975, 1.60390159, 0.98408787, 0.31341679, 0.62398345],\n",
       "       [0.67530256, 1.52786222, 0.769527  , 0.85453783, 0.98272772,\n",
       "        1.37559019, 1.11236149, 1.0464106 , 0.66429972, 0.61082517],\n",
       "       [0.30041963, 1.47875575, 0.5084799 , 0.35356596, 1.22761132,\n",
       "        1.20392629, 0.70642977, 0.92737759, 1.1370654 , 0.56217434],\n",
       "       [0.7140162 , 1.11458043, 0.70732493, 0.26007525, 0.86573647,\n",
       "        1.46229919, 1.02786049, 0.7127554 , 0.37928848, 0.15914494],\n",
       "       [0.9769737 , 1.45075728, 0.70874417, 0.45022905, 0.99122608,\n",
       "        1.71190102, 0.7398637 , 1.08699135, 0.67285092, 0.24195272],\n",
       "       [1.11826955, 0.90742795, 0.68589337, 0.69991274, 0.27833327,\n",
       "        1.62436495, 1.45462402, 0.21933214, 0.54251724, 0.33769035],\n",
       "       [0.37765912, 1.49446603, 0.95502484, 0.28361031, 1.07198794,\n",
       "        1.68466706, 0.90638502, 0.2094957 , 1.19675081, 0.29463681],\n",
       "       [0.411271  , 1.56036766, 0.60464989, 0.26929116, 0.46786884,\n",
       "        1.22516754, 1.36731756, 0.97150166, 0.4349084 , 1.08007431],\n",
       "       [0.92630774, 0.76313529, 1.02570543, 0.42917487, 0.71628901,\n",
       "        1.07125909, 0.82369499, 0.30688039, 0.74450408, 0.53261984],\n",
       "       [0.27084333, 0.95115992, 1.12081715, 0.11795693, 0.3408551 ,\n",
       "        0.93019753, 0.98329075, 0.98867861, 1.0137968 , 0.24167565]])"
      ]
     },
     "execution_count": 21,
     "metadata": {},
     "output_type": "execute_result"
    }
   ],
   "source": [
    "x_1 + x_2"
   ]
  },
  {
   "cell_type": "code",
   "execution_count": null,
   "metadata": {},
   "outputs": [],
   "source": []
  }
 ],
 "metadata": {
  "kernelspec": {
   "display_name": "Python 3",
   "language": "python",
   "name": "python3"
  },
  "language_info": {
   "codemirror_mode": {
    "name": "ipython",
    "version": 3
   },
   "file_extension": ".py",
   "mimetype": "text/x-python",
   "name": "python",
   "nbconvert_exporter": "python",
   "pygments_lexer": "ipython3",
   "version": "3.6.10"
  },
  "varInspector": {
   "cols": {
    "lenName": 16,
    "lenType": 16,
    "lenVar": 40
   },
   "kernels_config": {
    "python": {
     "delete_cmd_postfix": "",
     "delete_cmd_prefix": "del ",
     "library": "var_list.py",
     "varRefreshCmd": "print(var_dic_list())"
    },
    "r": {
     "delete_cmd_postfix": ") ",
     "delete_cmd_prefix": "rm(",
     "library": "var_list.r",
     "varRefreshCmd": "cat(var_dic_list()) "
    }
   },
   "types_to_exclude": [
    "module",
    "function",
    "builtin_function_or_method",
    "instance",
    "_Feature"
   ],
   "window_display": false
  }
 },
 "nbformat": 4,
 "nbformat_minor": 4
}
